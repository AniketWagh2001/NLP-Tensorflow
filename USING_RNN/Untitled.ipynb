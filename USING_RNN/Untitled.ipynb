{
 "cells": [
  {
   "cell_type": "code",
   "execution_count": 1,
   "id": "467819ef",
   "metadata": {},
   "outputs": [],
   "source": [
    "import numpy as np\n",
    "import tensorflow_datasets as tfds\n",
    "import tensorflow as tf\n",
    "\n",
    "tfds.disable_progress_bar()"
   ]
  },
  {
   "cell_type": "code",
   "execution_count": 2,
   "id": "5f0b9821",
   "metadata": {},
   "outputs": [],
   "source": [
    "import matplotlib.pyplot as plt \n",
    "\n",
    "def plot_graph(history, metric):\n",
    "    plt.plot(history.history[metric])\n",
    "    plt.plot(history.history['val_' +metric], '')\n",
    "    plt.xlabel(\"Epochs\")\n",
    "    plt.ylabel(metric)\n",
    "    plt.legend([metric, 'val_'+metrics])"
   ]
  },
  {
   "cell_type": "code",
   "execution_count": 3,
   "id": "c4d18342",
   "metadata": {},
   "outputs": [
    {
     "data": {
      "text/plain": [
       "(TensorSpec(shape=(), dtype=tf.string, name=None),\n",
       " TensorSpec(shape=(), dtype=tf.int64, name=None))"
      ]
     },
     "execution_count": 3,
     "metadata": {},
     "output_type": "execute_result"
    }
   ],
   "source": [
    "dataset, info = tfds.load('imdb_reviews', with_info=True,\n",
    "                         as_supervised=True)\n",
    "\n",
    "train_dataset, test_dataset = dataset['train'], dataset['test']\n",
    "\n",
    "train_dataset.element_spec"
   ]
  },
  {
   "cell_type": "code",
   "execution_count": 4,
   "id": "e7e0318e",
   "metadata": {
    "scrolled": true
   },
   "outputs": [
    {
     "name": "stdout",
     "output_type": "stream",
     "text": [
      "text:  b\"This was an absolutely terrible movie. Don't be lured in by Christopher Walken or Michael Ironside. Both are great actors, but this must simply be their worst role in history. Even their great acting could not redeem this movie's ridiculous storyline. This movie is an early nineties US propaganda piece. The most pathetic scenes were those when the Columbian rebels were making their cases for revolutions. Maria Conchita Alonso appeared phony, and her pseudo-love affair with Walken was nothing but a pathetic emotional plug in a movie that was devoid of any real meaning. I am disappointed that there are movies like this, ruining actor's like Christopher Walken's good name. I could barely sit through it.\"\n",
      "label:  0\n"
     ]
    }
   ],
   "source": [
    "for example, label, in train_dataset.take(1):\n",
    "    print('text: ',example.numpy())\n",
    "    print('label: ', label.numpy())"
   ]
  },
  {
   "cell_type": "code",
   "execution_count": 5,
   "id": "bc32df6f",
   "metadata": {},
   "outputs": [],
   "source": [
    "BUFFER_SIZE = 10000\n",
    "BATCH_SIZE = 64"
   ]
  },
  {
   "cell_type": "code",
   "execution_count": 6,
   "id": "4340f8f8",
   "metadata": {},
   "outputs": [],
   "source": [
    "train_dataset = train_dataset.shuffle(BUFFER_SIZE).batch(BATCH_SIZE).prefetch(tf.data.AUTOTUNE)\n",
    "test_dataset = test_dataset.batch(BATCH_SIZE).prefetch(tf.data.AUTOTUNE)"
   ]
  },
  {
   "cell_type": "code",
   "execution_count": 7,
   "id": "9a2d3c4f",
   "metadata": {
    "scrolled": true
   },
   "outputs": [
    {
     "name": "stdout",
     "output_type": "stream",
     "text": [
      "texts:  [b'Dreadful acting. A thinly veiled attempt to slam those on the left side of the aisle.<br /><br />Women are subjugated and revolve around men. Tom Selleck shows his acting range from A to B.'\n",
      " b\"Yes this a B- grade horror. But at least the producers, directors, and cast does not pretend this flick is manna from heaven. The plot is corny, a psychotic serial killer on his way to execution is splashed with genetic acid turning him into a snow man. The snowman a.k.a. Jack Frost then goes on a murdering rampage to find the small town sheriff that finally arrested him. With a limited budget the crew had to make do with limited special effects, most of the money appears to spent on the snowman's costume. Particullary difficult shots are managed by cartoons or pan away shots (shots where the camera moves away to disguise the details). <br /><br /> This is no kid's movie and should not be confused with Disney movie of the same title. If you do not let your children watch pg-13 movies alone than parents should not let their kids watch this movie. This movie has two claims to fame. 1. The beatiful Shannon Elizabeth (American Pie)did her first major movie role. The scene where Jack Frost attacks Shannon Elizabeth is worth watching a few times. 2. This movie has the worst snowman joke ever. The joke is so bad that the directors credit the joke teller in the credit list.\"\n",
      " b'\"Like the first touch of pleasure and guilt, like a spontaneous youthful flirt of fascination and fear, like a climax of contrary emotions\" said one of the movie buffs after viewing LOVE AT THE TOP, the misinterpreted title version of stylish director Michel Deville\\'s LE MOUTON ENRAGE. <br /><br />Vincent Canby in New York Times, however, just after the 1974 premiere of the movie stated: \"LOVE AT THE TOP which opened yesterday at the 68th Street Playhouse, is a 1973 French comedy that dimly recalls a number of nineteen-fifties English comedies about the rise and rise of cynical young men possessing\\xc2\\x97and possessed by\\xc2\\x97ambition.\" Yet, the significant difference that he mentioned was the fact that LOVE AT THE TOP is not concerned with the English class system...(January 27, 1975)<br /><br />Having left the evaluations up to single individuals, of course, the test of time has done its just job. What may be said with certainty after more than 30 years is that we can hardly find such movies like LE MOUTON ENRAGE where decadence appears innocent, where liaisons appear youthfully enthusiastic, where feelings occur so manipulative. <br /><br />For Romy Schneider\\'s fans, it seems useless to point out that this film is a must see, not only because she gives a unique performance (as she did in all of her roles) at the heyday of her career (9 years before her sudden death) but because she is particularly attractive here. It is not TRIO INFERNAL where the, so to say, \\'forced escape\\' from and the mockery of Romy\\'s sweet image haunted for years by saccharine Sissi meets its most discouraging manifestation, but a film where the brilliant actress is given a fair role. She plays Roberte, a woman who becomes the object of lust for the story\\'s lead, playboy Nicolas Mallet (Jean Louis Trintignant). It is him who takes financial profits from lustful liaisons. This movie can boast truly memorable and unique shots of Romy and she is given some of her very best scenes. Romy\\'s sex appeal is unforgettable here.<br /><br />Another strong point of the film is its execution of the content with a development of individual perception. Immoral as it may seem, the director makes a perfect use of contrast: conventions vs pleasures, innocence vs decadence, genuine lust vs instrumental affair. Nicola owns most of the features that viewers may like or detest, may find attractive or disgusting; yet, his are the features the viewers must treat seriously, more to say, they are the ones we all must accept. That is why, one is led to a peculiar, gently wild, erotically unique world of the main character. Although he sleeps with lots of women, there are two women that represent a sort of contrary worlds for Nicola: Roberte Groult (Romy Schneider) and Marie-Paul (Jane Birkin). He manipulates them, makes love to them, cannot refrain from both desire for their bodies and desire for money; yet, he perceives them differently. Yet, despite all of this \\'adult maturity,\\' he is emotionally like a little boy who plays with a toy-car on the table - a sort of \\'detailed insight into male mind...\\' in a comedy-like way, of course.<br /><br />Finally, there are very good performances, which makes LE MOUTON ENRAGE slightly underrated. Not only the aforementioned Romy Schneider does a brilliant job supplying the viewers with an extraordinary insight into her role, but young Jane Birkin appears to be convincing in the role of young, inexperienced streetwalker Marie Paul, Jean Louis Trintignant makes it possible to see Nicola in the right way. This artistic merit lying in performances goes with terrific music by Camille Saint-Sa\\xc3\\xabns, the tune that will ring in your ears for long. Therefore, apart from some flaws of the movie like dated colors, slow action (sometimes), possible clich\\xc3\\xa9s (noticed by some viewers), the merits should be found significant. <br /><br />LE MOUTON ENRAGE, in sum, is a clear manifestation of contrary manipulative tools in life. It is worth seeing as a moment in Romy\\'s career, a prelude to strong eroticism, a chain of contrary emotions, of love and hatred, appreciation and disgust compared to the first orgasm and the first angasm... But aren\\'t we, humans, \\'viewers,\\' movie buffs built upon such contrasts?']\n",
      "\n",
      "labels:  [0 1 1]\n"
     ]
    }
   ],
   "source": [
    "for example, label in train_dataset.take(1):\n",
    "    print('texts: ', example.numpy()[:3])\n",
    "    print()\n",
    "    print('labels: ', label.numpy()[:3])"
   ]
  },
  {
   "cell_type": "code",
   "execution_count": 8,
   "id": "39ced285",
   "metadata": {},
   "outputs": [],
   "source": [
    "VOCAB_SIZE = 1000\n",
    "encoder = tf.keras.layers.experimental.preprocessing.TextVectorization(\n",
    "    max_tokens=VOCAB_SIZE)"
   ]
  },
  {
   "cell_type": "code",
   "execution_count": 9,
   "id": "486e5ed8",
   "metadata": {},
   "outputs": [],
   "source": [
    "encoder.adapt(train_dataset.map(lambda text, label: text))"
   ]
  },
  {
   "cell_type": "code",
   "execution_count": 10,
   "id": "10deea41",
   "metadata": {},
   "outputs": [
    {
     "data": {
      "text/plain": [
       "array(['', '[UNK]', 'the', 'and', 'a', 'of', 'to', 'is', 'in', 'it', 'i',\n",
       "       'this', 'that', 'br', 'was', 'as', 'for', 'with', 'movie', 'but'],\n",
       "      dtype='<U14')"
      ]
     },
     "execution_count": 10,
     "metadata": {},
     "output_type": "execute_result"
    }
   ],
   "source": [
    "vocab = np.array(encoder.get_vocabulary())\n",
    "vocab[:20]"
   ]
  },
  {
   "cell_type": "code",
   "execution_count": 11,
   "id": "93ba46fd",
   "metadata": {},
   "outputs": [
    {
     "data": {
      "text/plain": [
       "array([[  1, 112,   4, ...,   0,   0,   0],\n",
       "       [414,  11,   4, ...,   0,   0,   0],\n",
       "       [ 39,   2,  86, ...,   0,   0,   0]])"
      ]
     },
     "execution_count": 11,
     "metadata": {},
     "output_type": "execute_result"
    }
   ],
   "source": [
    "encoded_example = encoder(example)[:3].numpy()\n",
    "encoded_example"
   ]
  },
  {
   "cell_type": "code",
   "execution_count": 12,
   "id": "91312498",
   "metadata": {},
   "outputs": [
    {
     "name": "stdout",
     "output_type": "stream",
     "text": [
      "Original:  b'Dreadful acting. A thinly veiled attempt to slam those on the left side of the aisle.<br /><br />Women are subjugated and revolve around men. Tom Selleck shows his acting range from A to B.'\n",
      "Round-trip:  [UNK] acting a [UNK] [UNK] attempt to [UNK] those on the left side of the [UNK] br women are [UNK] and [UNK] around men tom [UNK] shows his acting [UNK] from a to b                                                                                                                                                                                                                                                                                                                                                                                                                                                                                                                                                                                                                                                                                                                                                                                                                                                                                                                                                                 \n",
      "\n",
      "Original:  b\"Yes this a B- grade horror. But at least the producers, directors, and cast does not pretend this flick is manna from heaven. The plot is corny, a psychotic serial killer on his way to execution is splashed with genetic acid turning him into a snow man. The snowman a.k.a. Jack Frost then goes on a murdering rampage to find the small town sheriff that finally arrested him. With a limited budget the crew had to make do with limited special effects, most of the money appears to spent on the snowman's costume. Particullary difficult shots are managed by cartoons or pan away shots (shots where the camera moves away to disguise the details). <br /><br /> This is no kid's movie and should not be confused with Disney movie of the same title. If you do not let your children watch pg-13 movies alone than parents should not let their kids watch this movie. This movie has two claims to fame. 1. The beatiful Shannon Elizabeth (American Pie)did her first major movie role. The scene where Jack Frost attacks Shannon Elizabeth is worth watching a few times. 2. This movie has the worst snowman joke ever. The joke is so bad that the directors credit the joke teller in the credit list.\"\n",
      "Round-trip:  yes this a b [UNK] horror but at least the [UNK] directors and cast does not [UNK] this flick is [UNK] from [UNK] the plot is [UNK] a [UNK] [UNK] killer on his way to [UNK] is [UNK] with [UNK] [UNK] [UNK] him into a [UNK] man the [UNK] [UNK] jack [UNK] then goes on a [UNK] [UNK] to find the small town [UNK] that finally [UNK] him with a [UNK] budget the [UNK] had to make do with [UNK] special effects most of the money appears to [UNK] on the [UNK] [UNK] [UNK] difficult shots are [UNK] by [UNK] or [UNK] away shots shots where the camera [UNK] away to [UNK] the [UNK] br br this is no kids movie and should not be [UNK] with disney movie of the same title if you do not let your children watch [UNK] movies alone than parents should not let their kids watch this movie this movie has two [UNK] to [UNK] 1 the [UNK] [UNK] [UNK] american [UNK] her first major movie role the scene where jack [UNK] [UNK] [UNK] [UNK] is worth watching a few times 2 this movie has the worst [UNK] joke ever the joke is so bad that the directors [UNK] the joke [UNK] in the [UNK] [UNK]                                                                                                                                                                                                                                                                                                                                                                                                                                                                                                                                                                                                                                                                                                                                                                               \n",
      "\n",
      "Original:  b'\"Like the first touch of pleasure and guilt, like a spontaneous youthful flirt of fascination and fear, like a climax of contrary emotions\" said one of the movie buffs after viewing LOVE AT THE TOP, the misinterpreted title version of stylish director Michel Deville\\'s LE MOUTON ENRAGE. <br /><br />Vincent Canby in New York Times, however, just after the 1974 premiere of the movie stated: \"LOVE AT THE TOP which opened yesterday at the 68th Street Playhouse, is a 1973 French comedy that dimly recalls a number of nineteen-fifties English comedies about the rise and rise of cynical young men possessing\\xc2\\x97and possessed by\\xc2\\x97ambition.\" Yet, the significant difference that he mentioned was the fact that LOVE AT THE TOP is not concerned with the English class system...(January 27, 1975)<br /><br />Having left the evaluations up to single individuals, of course, the test of time has done its just job. What may be said with certainty after more than 30 years is that we can hardly find such movies like LE MOUTON ENRAGE where decadence appears innocent, where liaisons appear youthfully enthusiastic, where feelings occur so manipulative. <br /><br />For Romy Schneider\\'s fans, it seems useless to point out that this film is a must see, not only because she gives a unique performance (as she did in all of her roles) at the heyday of her career (9 years before her sudden death) but because she is particularly attractive here. It is not TRIO INFERNAL where the, so to say, \\'forced escape\\' from and the mockery of Romy\\'s sweet image haunted for years by saccharine Sissi meets its most discouraging manifestation, but a film where the brilliant actress is given a fair role. She plays Roberte, a woman who becomes the object of lust for the story\\'s lead, playboy Nicolas Mallet (Jean Louis Trintignant). It is him who takes financial profits from lustful liaisons. This movie can boast truly memorable and unique shots of Romy and she is given some of her very best scenes. Romy\\'s sex appeal is unforgettable here.<br /><br />Another strong point of the film is its execution of the content with a development of individual perception. Immoral as it may seem, the director makes a perfect use of contrast: conventions vs pleasures, innocence vs decadence, genuine lust vs instrumental affair. Nicola owns most of the features that viewers may like or detest, may find attractive or disgusting; yet, his are the features the viewers must treat seriously, more to say, they are the ones we all must accept. That is why, one is led to a peculiar, gently wild, erotically unique world of the main character. Although he sleeps with lots of women, there are two women that represent a sort of contrary worlds for Nicola: Roberte Groult (Romy Schneider) and Marie-Paul (Jane Birkin). He manipulates them, makes love to them, cannot refrain from both desire for their bodies and desire for money; yet, he perceives them differently. Yet, despite all of this \\'adult maturity,\\' he is emotionally like a little boy who plays with a toy-car on the table - a sort of \\'detailed insight into male mind...\\' in a comedy-like way, of course.<br /><br />Finally, there are very good performances, which makes LE MOUTON ENRAGE slightly underrated. Not only the aforementioned Romy Schneider does a brilliant job supplying the viewers with an extraordinary insight into her role, but young Jane Birkin appears to be convincing in the role of young, inexperienced streetwalker Marie Paul, Jean Louis Trintignant makes it possible to see Nicola in the right way. This artistic merit lying in performances goes with terrific music by Camille Saint-Sa\\xc3\\xabns, the tune that will ring in your ears for long. Therefore, apart from some flaws of the movie like dated colors, slow action (sometimes), possible clich\\xc3\\xa9s (noticed by some viewers), the merits should be found significant. <br /><br />LE MOUTON ENRAGE, in sum, is a clear manifestation of contrary manipulative tools in life. It is worth seeing as a moment in Romy\\'s career, a prelude to strong eroticism, a chain of contrary emotions, of love and hatred, appreciation and disgust compared to the first orgasm and the first angasm... But aren\\'t we, humans, \\'viewers,\\' movie buffs built upon such contrasts?'\n",
      "Round-trip:  like the first [UNK] of [UNK] and [UNK] like a [UNK] [UNK] [UNK] of [UNK] and [UNK] like a [UNK] of [UNK] [UNK] said one of the movie [UNK] after viewing love at the top the [UNK] title version of [UNK] director [UNK] [UNK] [UNK] [UNK] [UNK] br br [UNK] [UNK] in new york times however just after the [UNK] [UNK] of the movie [UNK] love at the top which [UNK] [UNK] at the [UNK] street [UNK] is a [UNK] french comedy that [UNK] [UNK] a number of [UNK] english [UNK] about the [UNK] and [UNK] of [UNK] young men [UNK] [UNK] [UNK] yet the [UNK] [UNK] that he [UNK] was the fact that love at the top is not [UNK] with the english class [UNK] [UNK] [UNK] br having left the [UNK] up to single [UNK] of course the [UNK] of time has done its just job what may be said with [UNK] after more than [UNK] years is that we can hardly find such movies like [UNK] [UNK] [UNK] where [UNK] appears [UNK] where [UNK] appear [UNK] [UNK] where [UNK] [UNK] so [UNK] br br for [UNK] [UNK] fans it seems [UNK] to point out that this film is a must see not only because she gives a unique performance as she did in all of her roles at the [UNK] of her career [UNK] years before her [UNK] death but because she is particularly [UNK] here it is not [UNK] [UNK] where the so to say forced [UNK] from and the [UNK] of [UNK] [UNK] [UNK] [UNK] for years by [UNK] [UNK] meets its most [UNK] [UNK] but a film where the brilliant actress is given a [UNK] role she plays [UNK] a woman who becomes the [UNK] of [UNK] for the [UNK] lead [UNK] [UNK] [UNK] [UNK] [UNK] [UNK] it is him who takes [UNK] [UNK] from [UNK] [UNK] this movie can [UNK] truly memorable and unique shots of [UNK] and she is given some of her very best scenes [UNK] sex [UNK] is [UNK] [UNK] br another strong point of the film is its [UNK] of the [UNK] with a development of [UNK] [UNK] [UNK] as it may seem the director makes a perfect use of [UNK] [UNK] [UNK] [UNK] [UNK] [UNK] [UNK] [UNK] [UNK] [UNK] [UNK] [UNK] [UNK] [UNK] most of the features that viewers may like or [UNK] may find [UNK] or [UNK] yet his are the features the viewers must [UNK] seriously more to say they are the ones we all must [UNK] that is why one is [UNK] to a [UNK] [UNK] [UNK] [UNK] unique world of the main character although he [UNK] with lots of women there are two women that [UNK] a sort of [UNK] [UNK] for [UNK] [UNK] [UNK] [UNK] [UNK] and [UNK] jane [UNK] he [UNK] them makes love to them cannot [UNK] from both [UNK] for their [UNK] and [UNK] for money yet he [UNK] them [UNK] yet despite all of this [UNK] [UNK] he is [UNK] like a little boy who plays with a [UNK] on the [UNK] a sort of [UNK] [UNK] into male mind in a [UNK] way of [UNK] br finally there are very good performances which makes [UNK] [UNK] [UNK] [UNK] [UNK] not only the [UNK] [UNK] [UNK] does a brilliant job [UNK] the viewers with an [UNK] [UNK] into her role but young jane [UNK] appears to be [UNK] in the role of young [UNK] [UNK] [UNK] paul [UNK] [UNK] [UNK] makes it possible to see [UNK] in the right way this [UNK] [UNK] [UNK] in performances goes with [UNK] music by [UNK] [UNK] the [UNK] that will [UNK] in your [UNK] for long [UNK] apart from some [UNK] of the movie like [UNK] [UNK] slow action sometimes possible [UNK] [UNK] by some viewers the [UNK] should be found [UNK] br br [UNK] [UNK] [UNK] in [UNK] is a clear [UNK] of [UNK] [UNK] [UNK] in life it is worth seeing as a moment in [UNK] career a [UNK] to strong [UNK] a [UNK] of [UNK] [UNK] of love and [UNK] [UNK] and [UNK] [UNK] to the first [UNK] and the first [UNK] but arent we [UNK] viewers movie [UNK] [UNK] upon such [UNK]                                                                                                                                                                                                                                                                   \n",
      "\n"
     ]
    }
   ],
   "source": [
    "for n in range(3):\n",
    "    print(\"Original: \", example[n].numpy())\n",
    "    print(\"Round-trip: \", \" \".join(vocab[encoded_example[n]]))\n",
    "    print()"
   ]
  },
  {
   "cell_type": "code",
   "execution_count": null,
   "id": "5d68e862",
   "metadata": {},
   "outputs": [],
   "source": []
  }
 ],
 "metadata": {
  "kernelspec": {
   "display_name": "pt-venv",
   "language": "python",
   "name": "pt-venv"
  },
  "language_info": {
   "codemirror_mode": {
    "name": "ipython",
    "version": 3
   },
   "file_extension": ".py",
   "mimetype": "text/x-python",
   "name": "python",
   "nbconvert_exporter": "python",
   "pygments_lexer": "ipython3",
   "version": "3.8.10"
  }
 },
 "nbformat": 4,
 "nbformat_minor": 5
}
