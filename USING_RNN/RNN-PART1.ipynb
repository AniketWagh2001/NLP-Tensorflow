{
 "cells": [
  {
   "cell_type": "code",
   "execution_count": 1,
   "id": "467819ef",
   "metadata": {},
   "outputs": [],
   "source": [
    "import numpy as np\n",
    "import tensorflow_datasets as tfds\n",
    "import tensorflow as tf\n",
    "\n",
    "tfds.disable_progress_bar()"
   ]
  },
  {
   "cell_type": "code",
   "execution_count": 22,
   "id": "5f0b9821",
   "metadata": {},
   "outputs": [],
   "source": [
    "import matplotlib.pyplot as plt \n",
    "\n",
    "def plot_graph(history, metric):\n",
    "    plt.plot(history.history[metric])\n",
    "    plt.plot(history.history['val_' +metric], '')\n",
    "    plt.xlabel(\"Epochs\")\n",
    "    plt.ylabel(metric)\n",
    "    plt.legend([metric, 'val_'+metric])"
   ]
  },
  {
   "cell_type": "code",
   "execution_count": 3,
   "id": "c4d18342",
   "metadata": {},
   "outputs": [
    {
     "data": {
      "text/plain": [
       "(TensorSpec(shape=(), dtype=tf.string, name=None),\n",
       " TensorSpec(shape=(), dtype=tf.int64, name=None))"
      ]
     },
     "execution_count": 3,
     "metadata": {},
     "output_type": "execute_result"
    }
   ],
   "source": [
    "dataset, info = tfds.load('imdb_reviews', with_info=True,\n",
    "                         as_supervised=True)\n",
    "\n",
    "train_dataset, test_dataset = dataset['train'], dataset['test']\n",
    "\n",
    "train_dataset.element_spec"
   ]
  },
  {
   "cell_type": "code",
   "execution_count": 4,
   "id": "e7e0318e",
   "metadata": {
    "scrolled": true
   },
   "outputs": [
    {
     "name": "stdout",
     "output_type": "stream",
     "text": [
      "text:  b\"This was an absolutely terrible movie. Don't be lured in by Christopher Walken or Michael Ironside. Both are great actors, but this must simply be their worst role in history. Even their great acting could not redeem this movie's ridiculous storyline. This movie is an early nineties US propaganda piece. The most pathetic scenes were those when the Columbian rebels were making their cases for revolutions. Maria Conchita Alonso appeared phony, and her pseudo-love affair with Walken was nothing but a pathetic emotional plug in a movie that was devoid of any real meaning. I am disappointed that there are movies like this, ruining actor's like Christopher Walken's good name. I could barely sit through it.\"\n",
      "label:  0\n"
     ]
    }
   ],
   "source": [
    "for example, label, in train_dataset.take(1):\n",
    "    print('text: ',example.numpy())\n",
    "    print('label: ', label.numpy())"
   ]
  },
  {
   "cell_type": "code",
   "execution_count": 5,
   "id": "bc32df6f",
   "metadata": {},
   "outputs": [],
   "source": [
    "BUFFER_SIZE = 10000\n",
    "BATCH_SIZE = 64"
   ]
  },
  {
   "cell_type": "code",
   "execution_count": 6,
   "id": "4340f8f8",
   "metadata": {},
   "outputs": [],
   "source": [
    "train_dataset = train_dataset.shuffle(BUFFER_SIZE).batch(BATCH_SIZE).prefetch(tf.data.AUTOTUNE)\n",
    "test_dataset = test_dataset.batch(BATCH_SIZE).prefetch(tf.data.AUTOTUNE)"
   ]
  },
  {
   "cell_type": "code",
   "execution_count": 7,
   "id": "9a2d3c4f",
   "metadata": {
    "scrolled": true
   },
   "outputs": [
    {
     "name": "stdout",
     "output_type": "stream",
     "text": [
      "texts:  [b\"52-Pick Up never got the respect it should have. It works on many levels, and has a complicated but followable plot. The actors involved give some of their finest performances. Ann-Margret, Roy Scheider, and John Glover are perfectly cast and provide deep character portrayals. Notable too are Vanity, who should have parlayed this into a serious acting career given the unexpected ability she shows, and Kelly Preston, who's character will haunt you for a few days. Anyone who likes action combined with a gritty complicated story will enjoy this.\"\n",
      " b'This splendidly-directed fantasy is the second in the popular by flawed Tarzan series put out by MGM. It is a first-class adventure for many reasons, I suggest--fine photography, strong imaginative qualities, a delightful cast, good simulated-jungle locales and a very exciting storyline. Johnny Weissmuller plays Tarzan, a mono-syllabic untutored sort unlike Edgar Rice Burroughs\\' creation; but he is honest, loyal, brave and very courageous, and he needs to be during this narrative. As Jane Parker, his wife who had been Jane Porter in the novels, Maureen O\\'Sullivan is very attractive and lively, as well as being athletic where the script calls for that quality. The effect of the lighting, the spacious and clever sets is quite unusual. This is an outdoor adventure filmed on the MGM back-lot which really works. The fabulous Mutir Escarpment is a remote locale which allows Tarzan and Jane to live undisturbed; but into their idyll come people searching from them, emissaries of a civilization Jane has left behind and into which Tarzan could not really be comfortably habituated. One is Harry Holt, still in love with her, who with his friend tempts her to come back to civilization with him; the gown and perfumes interest her, but she refuses to leave Tarzan. Tarzan has to protect her against several wild animals, in scenes that look like a humanized King King. The group claim to want to hunt animals, and Tarzan agrees for Jane\\'s sake to a bit of big game trapping; but at some point, the idea of ivory and of obtaining a fortune turns the expedition\\'s heads\\' minds. Tarzan is shot, left for dead; and the group force Jane to accompany them on an expedition as they follow a dying elephant to the fabulous \"elephant\\'s graveyard\". But they find the area guarded by a savage tribe and are attacked by lions. Tarzan rides in on an elephant he has revived in time to call; in a most spectacular elephant-filled scene, he saves Jane and what is left of the expedition, who return home little richer but much wise, as Jane continues her savage idyll with her new husband. The film was directed by set-design wizard Cedric Gibbons, and quite beautifully too. His work and the lighting are the outstanding accomplishments of this entertaining and exciting film,which manages to seem real despite all its Hollywood shortcomings from start to finish. Neil Hamilton is a very good Harry, Paul Cavanagh is even better before and after he reveals himself to be thoroughly bad. Forrester Harvey and Nathan Curry round out a small cast very professionally. An unusual and well-realized fantasy film with interesting situations and some strong dialogue confrontations as well. Recommended.'\n",
      " b'This movie has always been my favorit Disney movie. Then on 11/21/01 I saw the 30th aniversy of this movie DVD. WOW I remembered why I loved this movie. The DVD is So great, It has an extra 30 min that the original did not have. I did not know this when I first started watching. The movie made ever so much more since. The music they cut out should have been left in. You have not seen this movie until you have seen the Full 131 min version. A lot of people say that the music is forgettable. I remember every song in this movie by heart, every song has it\\'s own Charm by it\\'s self, and comes together as a hole. I remember when i was younger I had the \"Eglantine\" song stuck in my head for days at a time. As well as \"Briny Sea\" (that song was meant for marry poppens but was cut out of the film) Please Watch the new uncut 30th aniversy movie and re-vote for this movie. the 10 that it really is.']\n",
      "\n",
      "labels:  [1 1 1]\n"
     ]
    }
   ],
   "source": [
    "for example, label in train_dataset.take(1):\n",
    "    print('texts: ', example.numpy()[:3])\n",
    "    print()\n",
    "    print('labels: ', label.numpy()[:3])"
   ]
  },
  {
   "cell_type": "code",
   "execution_count": 8,
   "id": "39ced285",
   "metadata": {},
   "outputs": [],
   "source": [
    "VOCAB_SIZE = 1000\n",
    "encoder = tf.keras.layers.experimental.preprocessing.TextVectorization(\n",
    "    max_tokens=VOCAB_SIZE)"
   ]
  },
  {
   "cell_type": "code",
   "execution_count": 9,
   "id": "486e5ed8",
   "metadata": {},
   "outputs": [],
   "source": [
    "encoder.adapt(train_dataset.map(lambda text, label: text))"
   ]
  },
  {
   "cell_type": "code",
   "execution_count": 10,
   "id": "10deea41",
   "metadata": {},
   "outputs": [
    {
     "data": {
      "text/plain": [
       "array(['', '[UNK]', 'the', 'and', 'a', 'of', 'to', 'is', 'in', 'it', 'i',\n",
       "       'this', 'that', 'br', 'was', 'as', 'for', 'with', 'movie', 'but'],\n",
       "      dtype='<U14')"
      ]
     },
     "execution_count": 10,
     "metadata": {},
     "output_type": "execute_result"
    }
   ],
   "source": [
    "vocab = np.array(encoder.get_vocabulary())\n",
    "vocab[:20]"
   ]
  },
  {
   "cell_type": "code",
   "execution_count": 11,
   "id": "93ba46fd",
   "metadata": {},
   "outputs": [
    {
     "data": {
      "text/plain": [
       "array([[  1,  58, 110, ...,   0,   0,   0],\n",
       "       [ 11,   1, 996, ...,   0,   0,   0],\n",
       "       [ 11,  18,  44, ...,   0,   0,   0]])"
      ]
     },
     "execution_count": 11,
     "metadata": {},
     "output_type": "execute_result"
    }
   ],
   "source": [
    "encoded_example = encoder(example)[:3].numpy()\n",
    "encoded_example"
   ]
  },
  {
   "cell_type": "code",
   "execution_count": 12,
   "id": "91312498",
   "metadata": {
    "scrolled": true
   },
   "outputs": [
    {
     "name": "stdout",
     "output_type": "stream",
     "text": [
      "Original:  b\"52-Pick Up never got the respect it should have. It works on many levels, and has a complicated but followable plot. The actors involved give some of their finest performances. Ann-Margret, Roy Scheider, and John Glover are perfectly cast and provide deep character portrayals. Notable too are Vanity, who should have parlayed this into a serious acting career given the unexpected ability she shows, and Kelly Preston, who's character will haunt you for a few days. Anyone who likes action combined with a gritty complicated story will enjoy this.\"\n",
      "Round-trip:  [UNK] up never got the [UNK] it should have it works on many [UNK] and has a [UNK] but [UNK] plot the actors involved give some of their [UNK] performances [UNK] [UNK] [UNK] and john [UNK] are perfectly cast and [UNK] deep character [UNK] [UNK] too are [UNK] who should have [UNK] this into a serious acting career given the [UNK] [UNK] she shows and [UNK] [UNK] whos character will [UNK] you for a few days anyone who [UNK] action [UNK] with a [UNK] [UNK] story will enjoy this                                                                                                                                                                                                                                                                                                                                                                                                                                                                                                                                                                                                                                                                                                                                                                                                                                                                                                                                               \n",
      "\n",
      "Original:  b'This splendidly-directed fantasy is the second in the popular by flawed Tarzan series put out by MGM. It is a first-class adventure for many reasons, I suggest--fine photography, strong imaginative qualities, a delightful cast, good simulated-jungle locales and a very exciting storyline. Johnny Weissmuller plays Tarzan, a mono-syllabic untutored sort unlike Edgar Rice Burroughs\\' creation; but he is honest, loyal, brave and very courageous, and he needs to be during this narrative. As Jane Parker, his wife who had been Jane Porter in the novels, Maureen O\\'Sullivan is very attractive and lively, as well as being athletic where the script calls for that quality. The effect of the lighting, the spacious and clever sets is quite unusual. This is an outdoor adventure filmed on the MGM back-lot which really works. The fabulous Mutir Escarpment is a remote locale which allows Tarzan and Jane to live undisturbed; but into their idyll come people searching from them, emissaries of a civilization Jane has left behind and into which Tarzan could not really be comfortably habituated. One is Harry Holt, still in love with her, who with his friend tempts her to come back to civilization with him; the gown and perfumes interest her, but she refuses to leave Tarzan. Tarzan has to protect her against several wild animals, in scenes that look like a humanized King King. The group claim to want to hunt animals, and Tarzan agrees for Jane\\'s sake to a bit of big game trapping; but at some point, the idea of ivory and of obtaining a fortune turns the expedition\\'s heads\\' minds. Tarzan is shot, left for dead; and the group force Jane to accompany them on an expedition as they follow a dying elephant to the fabulous \"elephant\\'s graveyard\". But they find the area guarded by a savage tribe and are attacked by lions. Tarzan rides in on an elephant he has revived in time to call; in a most spectacular elephant-filled scene, he saves Jane and what is left of the expedition, who return home little richer but much wise, as Jane continues her savage idyll with her new husband. The film was directed by set-design wizard Cedric Gibbons, and quite beautifully too. His work and the lighting are the outstanding accomplishments of this entertaining and exciting film,which manages to seem real despite all its Hollywood shortcomings from start to finish. Neil Hamilton is a very good Harry, Paul Cavanagh is even better before and after he reveals himself to be thoroughly bad. Forrester Harvey and Nathan Curry round out a small cast very professionally. An unusual and well-realized fantasy film with interesting situations and some strong dialogue confrontations as well. Recommended.'\n",
      "Round-trip:  this [UNK] fantasy is the second in the [UNK] by [UNK] [UNK] series put out by [UNK] it is a [UNK] [UNK] for many [UNK] i [UNK] [UNK] strong [UNK] [UNK] a [UNK] cast good [UNK] [UNK] and a very [UNK] storyline [UNK] [UNK] plays [UNK] a [UNK] [UNK] sort unlike [UNK] [UNK] [UNK] [UNK] but he is [UNK] [UNK] [UNK] and very [UNK] and he needs to be during this [UNK] as jane [UNK] his wife who had been jane [UNK] in the [UNK] [UNK] [UNK] is very [UNK] and [UNK] as well as being [UNK] where the script [UNK] for that quality the effect of the [UNK] the [UNK] and [UNK] sets is quite [UNK] this is an [UNK] [UNK] filmed on the [UNK] [UNK] which really works the [UNK] [UNK] [UNK] is a [UNK] [UNK] which [UNK] [UNK] and jane to live [UNK] but into their [UNK] come people [UNK] from them [UNK] of a [UNK] jane has left behind and into which [UNK] could not really be [UNK] [UNK] one is [UNK] [UNK] still in love with her who with his friend [UNK] her to come back to [UNK] with him the [UNK] and [UNK] interest her but she [UNK] to leave [UNK] [UNK] has to [UNK] her against several [UNK] [UNK] in scenes that look like a [UNK] king king the group [UNK] to want to [UNK] [UNK] and [UNK] [UNK] for [UNK] [UNK] to a bit of big game [UNK] but at some point the idea of [UNK] and of [UNK] a [UNK] turns the [UNK] [UNK] [UNK] [UNK] is shot left for dead and the group [UNK] jane to [UNK] them on an [UNK] as they follow a [UNK] [UNK] to the [UNK] [UNK] [UNK] but they find the [UNK] [UNK] by a [UNK] [UNK] and are [UNK] by [UNK] [UNK] [UNK] in on an [UNK] he has [UNK] in time to call in a most [UNK] [UNK] scene he [UNK] jane and what is left of the [UNK] who return home little [UNK] but much [UNK] as jane [UNK] her [UNK] [UNK] with her new husband the film was directed by [UNK] [UNK] [UNK] [UNK] and quite [UNK] too his work and the [UNK] are the [UNK] [UNK] of this entertaining and [UNK] [UNK] manages to seem real despite all its hollywood [UNK] from start to [UNK] [UNK] [UNK] is a very good [UNK] paul [UNK] is even better before and after he [UNK] himself to be [UNK] bad [UNK] [UNK] and [UNK] [UNK] [UNK] out a small cast very [UNK] an [UNK] and [UNK] fantasy film with interesting [UNK] and some strong dialogue [UNK] as well [UNK]                                                                                                                                                                                                                                                                                                                                                                                                                                                                                                                                                                          \n",
      "\n",
      "Original:  b'This movie has always been my favorit Disney movie. Then on 11/21/01 I saw the 30th aniversy of this movie DVD. WOW I remembered why I loved this movie. The DVD is So great, It has an extra 30 min that the original did not have. I did not know this when I first started watching. The movie made ever so much more since. The music they cut out should have been left in. You have not seen this movie until you have seen the Full 131 min version. A lot of people say that the music is forgettable. I remember every song in this movie by heart, every song has it\\'s own Charm by it\\'s self, and comes together as a hole. I remember when i was younger I had the \"Eglantine\" song stuck in my head for days at a time. As well as \"Briny Sea\" (that song was meant for marry poppens but was cut out of the film) Please Watch the new uncut 30th aniversy movie and re-vote for this movie. the 10 that it really is.'\n",
      "Round-trip:  this movie has always been my [UNK] disney movie then on [UNK] i saw the [UNK] [UNK] of this movie dvd [UNK] i [UNK] why i loved this movie the dvd is so great it has an [UNK] [UNK] [UNK] that the original did not have i did not know this when i first started watching the movie made ever so much more since the music they cut out should have been left in you have not seen this movie until you have seen the full [UNK] [UNK] version a lot of people say that the music is [UNK] i remember every song in this movie by heart every song has its own [UNK] by its [UNK] and comes together as a [UNK] i remember when i was [UNK] i had the [UNK] song [UNK] in my head for days at a time as well as [UNK] [UNK] that song was meant for [UNK] [UNK] but was cut out of the film please watch the new [UNK] [UNK] [UNK] movie and [UNK] for this movie the 10 that it really is                                                                                                                                                                                                                                                                                                                                                                                                                                                                                                                                                                                                                                                                                                                                                                                                                                                   \n",
      "\n"
     ]
    }
   ],
   "source": [
    "for n in range(3):\n",
    "    print(\"Original: \", example[n].numpy())\n",
    "    print(\"Round-trip: \", \" \".join(vocab[encoded_example[n]]))\n",
    "    print()"
   ]
  },
  {
   "cell_type": "code",
   "execution_count": 13,
   "id": "5d68e862",
   "metadata": {},
   "outputs": [],
   "source": [
    "model = tf.keras.Sequential([\n",
    "    encoder,\n",
    "    tf.keras.layers.Embedding(\n",
    "        input_dim = len(encoder.get_vocabulary()),\n",
    "        output_dim=64,\n",
    "        mask_zero=True\n",
    "    ),\n",
    "    tf.keras.layers.Bidirectional(tf.keras.layers.LSTM(64)),\n",
    "    tf.keras.layers.Dense(64, activation='relu'),\n",
    "    tf.keras.layers.Dense(1)\n",
    "])"
   ]
  },
  {
   "cell_type": "code",
   "execution_count": 14,
   "id": "46039e93",
   "metadata": {},
   "outputs": [
    {
     "name": "stdout",
     "output_type": "stream",
     "text": [
      "[False, True, True, True, True]\n"
     ]
    }
   ],
   "source": [
    "print([layer.supports_masking for layer in model.layers])"
   ]
  },
  {
   "cell_type": "code",
   "execution_count": 15,
   "id": "c5a262b2",
   "metadata": {},
   "outputs": [
    {
     "name": "stdout",
     "output_type": "stream",
     "text": [
      "[0.02005088]\n"
     ]
    }
   ],
   "source": [
    "sample_text = ('The movie was cool. it was awesome.')\n",
    "prediction = model.predict(np.array([sample_text]))\n",
    "print(prediction[0])"
   ]
  },
  {
   "cell_type": "code",
   "execution_count": 16,
   "id": "55480c99",
   "metadata": {},
   "outputs": [
    {
     "name": "stdout",
     "output_type": "stream",
     "text": [
      "[0.02005089]\n"
     ]
    }
   ],
   "source": [
    "# predict on a sample text with padding\n",
    "\n",
    "padding = \"the \" * 2000\n",
    "predictions = model.predict(np.array([sample_text, padding]))\n",
    "print(predictions[0])"
   ]
  },
  {
   "cell_type": "code",
   "execution_count": 17,
   "id": "cf66a80e",
   "metadata": {},
   "outputs": [],
   "source": [
    "model.compile(loss=tf.keras.losses.BinaryCrossentropy(from_logits=True),\n",
    "             optimizer=tf.keras.optimizers.Adam(1e-4),\n",
    "             metrics=['accuracy'])"
   ]
  },
  {
   "cell_type": "code",
   "execution_count": 18,
   "id": "ca757969",
   "metadata": {},
   "outputs": [
    {
     "name": "stdout",
     "output_type": "stream",
     "text": [
      "Epoch 1/10\n",
      "391/391 [==============================] - 38s 86ms/step - loss: 0.6867 - accuracy: 0.5103 - val_loss: 0.5734 - val_accuracy: 0.6615\n",
      "Epoch 2/10\n",
      "391/391 [==============================] - 32s 82ms/step - loss: 0.5050 - accuracy: 0.7393 - val_loss: 0.3854 - val_accuracy: 0.8344\n",
      "Epoch 3/10\n",
      "391/391 [==============================] - 34s 86ms/step - loss: 0.3546 - accuracy: 0.8406 - val_loss: 0.3449 - val_accuracy: 0.8599\n",
      "Epoch 4/10\n",
      "391/391 [==============================] - 32s 82ms/step - loss: 0.3267 - accuracy: 0.8573 - val_loss: 0.3281 - val_accuracy: 0.8583\n",
      "Epoch 5/10\n",
      "391/391 [==============================] - 32s 83ms/step - loss: 0.3162 - accuracy: 0.8649 - val_loss: 0.3277 - val_accuracy: 0.8411\n",
      "Epoch 6/10\n",
      "391/391 [==============================] - 33s 84ms/step - loss: 0.3082 - accuracy: 0.8691 - val_loss: 0.3213 - val_accuracy: 0.8474\n",
      "Epoch 7/10\n",
      "391/391 [==============================] - 33s 83ms/step - loss: 0.3041 - accuracy: 0.8691 - val_loss: 0.3262 - val_accuracy: 0.8526\n",
      "Epoch 8/10\n",
      "391/391 [==============================] - 33s 84ms/step - loss: 0.2937 - accuracy: 0.8727 - val_loss: 0.3229 - val_accuracy: 0.8687\n",
      "Epoch 9/10\n",
      "391/391 [==============================] - 33s 84ms/step - loss: 0.2895 - accuracy: 0.8757 - val_loss: 0.3375 - val_accuracy: 0.8464\n",
      "Epoch 10/10\n",
      "391/391 [==============================] - 36s 91ms/step - loss: 0.2963 - accuracy: 0.8732 - val_loss: 0.3188 - val_accuracy: 0.8651\n"
     ]
    }
   ],
   "source": [
    "history = model.fit(train_dataset, epochs = 10,\n",
    "                   validation_data = test_dataset,\n",
    "                   validation_steps=30)"
   ]
  },
  {
   "cell_type": "code",
   "execution_count": 19,
   "id": "e34f138b",
   "metadata": {},
   "outputs": [
    {
     "name": "stdout",
     "output_type": "stream",
     "text": [
      "391/391 [==============================] - 13s 33ms/step - loss: 0.3157 - accuracy: 0.8641\n",
      "Test Loss: 0.3157292902469635 ||| Test Accuracy: 0.864080011844635\n"
     ]
    }
   ],
   "source": [
    "test_loss, test_acc = model.evaluate(test_dataset)\n",
    "print(f'Test Loss: {test_loss} ||| Test Accuracy: {test_acc}')"
   ]
  },
  {
   "cell_type": "code",
   "execution_count": 23,
   "id": "3f8652e7",
   "metadata": {},
   "outputs": [
    {
     "ename": "NameError",
     "evalue": "name 'plot_graphs' is not defined",
     "output_type": "error",
     "traceback": [
      "\u001b[0;31m---------------------------------------------------------------------------\u001b[0m",
      "\u001b[0;31mNameError\u001b[0m                                 Traceback (most recent call last)",
      "\u001b[0;32m<ipython-input-23-295a50b87678>\u001b[0m in \u001b[0;36m<module>\u001b[0;34m\u001b[0m\n\u001b[1;32m      4\u001b[0m \u001b[0mplt\u001b[0m\u001b[0;34m.\u001b[0m\u001b[0mylim\u001b[0m\u001b[0;34m(\u001b[0m\u001b[0;32mNone\u001b[0m\u001b[0;34m,\u001b[0m \u001b[0;36m1\u001b[0m\u001b[0;34m)\u001b[0m\u001b[0;34m\u001b[0m\u001b[0;34m\u001b[0m\u001b[0m\n\u001b[1;32m      5\u001b[0m \u001b[0mplt\u001b[0m\u001b[0;34m.\u001b[0m\u001b[0msubplot\u001b[0m\u001b[0;34m(\u001b[0m\u001b[0;36m1\u001b[0m\u001b[0;34m,\u001b[0m \u001b[0;36m2\u001b[0m\u001b[0;34m,\u001b[0m \u001b[0;36m2\u001b[0m\u001b[0;34m)\u001b[0m\u001b[0;34m\u001b[0m\u001b[0;34m\u001b[0m\u001b[0m\n\u001b[0;32m----> 6\u001b[0;31m \u001b[0mplot_graphs\u001b[0m\u001b[0;34m(\u001b[0m\u001b[0mhistory\u001b[0m\u001b[0;34m,\u001b[0m \u001b[0;34m'loss'\u001b[0m\u001b[0;34m)\u001b[0m\u001b[0;34m\u001b[0m\u001b[0;34m\u001b[0m\u001b[0m\n\u001b[0m\u001b[1;32m      7\u001b[0m \u001b[0mplt\u001b[0m\u001b[0;34m.\u001b[0m\u001b[0mylim\u001b[0m\u001b[0;34m(\u001b[0m\u001b[0;36m0\u001b[0m\u001b[0;34m,\u001b[0m \u001b[0;32mNone\u001b[0m\u001b[0;34m)\u001b[0m\u001b[0;34m\u001b[0m\u001b[0;34m\u001b[0m\u001b[0m\n",
      "\u001b[0;31mNameError\u001b[0m: name 'plot_graphs' is not defined"
     ]
    },
    {
     "data": {
      "image/png": "[encoded data removed]",
      "text/plain": [
       "<Figure size 1152x576 with 2 Axes>"
      ]
     },
     "metadata": {
      "needs_background": "light"
     },
     "output_type": "display_data"
    }
   ],
   "source": [
    "plt.figure(figsize=(16, 8))\n",
    "plt.subplot(1, 2, 1)\n",
    "plot_graph(history, 'accuracy')\n",
    "plt.ylim(None, 1)\n",
    "plt.subplot(1, 2, 2)\n",
    "plot_graphs(history, 'loss')\n",
    "plt.ylim(0, None)"
   ]
  },
  {
   "cell_type": "code",
   "execution_count": null,
   "id": "78f11560",
   "metadata": {},
   "outputs": [],
   "source": []
  }
 ],
 "metadata": {
  "kernelspec": {
   "display_name": "pt-venv",
   "language": "python",
   "name": "pt-venv"
  },
  "language_info": {
   "codemirror_mode": {
    "name": "ipython",
    "version": 3
   },
   "file_extension": ".py",
   "mimetype": "text/x-python",
   "name": "python",
   "nbconvert_exporter": "python",
   "pygments_lexer": "ipython3",
   "version": "3.8.10"
  }
 },
 "nbformat": 4,
 "nbformat_minor": 5
}
