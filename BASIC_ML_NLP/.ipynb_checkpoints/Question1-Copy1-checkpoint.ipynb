{
 "cells": [
  {
   "cell_type": "code",
   "execution_count": 1,
   "id": "a19ea8af",
   "metadata": {},
   "outputs": [],
   "source": [
    "import pandas as pd \n",
    "import numpy as np\n",
    "import preprocess_kgptalkie as ps \n",
    "import re \n",
    "from sklearn.feature_extraction.text import TfidfVectorizer\n",
    "from sklearn.model_selection import train_test_split\n",
    "from sklearn.svm import SVR\n",
    "from sklearn.metrics import mean_squared_error"
   ]
  },
  {
   "cell_type": "code",
   "execution_count": 2,
   "id": "e2889a92",
   "metadata": {},
   "outputs": [
    {
     "data": {
      "text/html": [
       "<div>\n",
       "<style scoped>\n",
       "    .dataframe tbody tr th:only-of-type {\n",
       "        vertical-align: middle;\n",
       "    }\n",
       "\n",
       "    .dataframe tbody tr th {\n",
       "        vertical-align: top;\n",
       "    }\n",
       "\n",
       "    .dataframe thead th {\n",
       "        text-align: right;\n",
       "    }\n",
       "</style>\n",
       "<table border=\"1\" class=\"dataframe\">\n",
       "  <thead>\n",
       "    <tr style=\"text-align: right;\">\n",
       "      <th></th>\n",
       "      <th>customer_reviews</th>\n",
       "      <th>average_review_rating</th>\n",
       "    </tr>\n",
       "  </thead>\n",
       "  <tbody>\n",
       "    <tr>\n",
       "      <th>0</th>\n",
       "      <td>Item was broken // 3.0 // 2 April 2014 // By\\n...</td>\n",
       "      <td>4.5</td>\n",
       "    </tr>\n",
       "    <tr>\n",
       "      <th>1</th>\n",
       "      <td>A wonderful collectors piece // 5.0 // 31 Aug....</td>\n",
       "      <td>4.6</td>\n",
       "    </tr>\n",
       "    <tr>\n",
       "      <th>2</th>\n",
       "      <td>Great sticker collection // 5.0 // 19 Jun. 201...</td>\n",
       "      <td>4.7</td>\n",
       "    </tr>\n",
       "    <tr>\n",
       "      <th>3</th>\n",
       "      <td>Rock and roll cards // 5.0 // 28 July 2013 // ...</td>\n",
       "      <td>5.0</td>\n",
       "    </tr>\n",
       "    <tr>\n",
       "      <th>4</th>\n",
       "      <td>Little fingers big imagination // 5.0 // 4 Mar...</td>\n",
       "      <td>4.2</td>\n",
       "    </tr>\n",
       "  </tbody>\n",
       "</table>\n",
       "</div>"
      ],
      "text/plain": [
       "                                    customer_reviews  average_review_rating\n",
       "0  Item was broken // 3.0 // 2 April 2014 // By\\n...                    4.5\n",
       "1  A wonderful collectors piece // 5.0 // 31 Aug....                    4.6\n",
       "2  Great sticker collection // 5.0 // 19 Jun. 201...                    4.7\n",
       "3  Rock and roll cards // 5.0 // 28 July 2013 // ...                    5.0\n",
       "4  Little fingers big imagination // 5.0 // 4 Mar...                    4.2"
      ]
     },
     "execution_count": 2,
     "metadata": {},
     "output_type": "execute_result"
    }
   ],
   "source": [
    "df = pd.read_csv('Train_Data.csv', usecols = ['customer_reviews','average_review_rating'])\n",
    "df.head()"
   ]
  },
  {
   "cell_type": "code",
   "execution_count": 3,
   "id": "3dacf319",
   "metadata": {
    "scrolled": true
   },
   "outputs": [
    {
     "data": {
      "text/plain": [
       "5.0    3870\n",
       "4.0     999\n",
       "4.5     538\n",
       "4.8     425\n",
       "4.7     389\n",
       "4.3     299\n",
       "4.6     282\n",
       "4.4     234\n",
       "4.9     173\n",
       "4.2     159\n",
       "4.1     106\n",
       "3.9       3\n",
       "3.3       2\n",
       "3.6       2\n",
       "3.5       2\n",
       "3.7       2\n",
       "3.0       1\n",
       "Name: average_review_rating, dtype: int64"
      ]
     },
     "execution_count": 3,
     "metadata": {},
     "output_type": "execute_result"
    }
   ],
   "source": [
    "df['average_review_rating'].value_counts()"
   ]
  },
  {
   "cell_type": "code",
   "execution_count": 4,
   "id": "5eecbdc6",
   "metadata": {},
   "outputs": [],
   "source": [
    "def get_clean(x):\n",
    "    x = str(x).lower().replace('\\\\', '').replace('_', ' ')\n",
    "    x = ps.cont_exp(x)\n",
    "    x = ps.remove_emails(x)\n",
    "    x = ps.remove_urls(x)\n",
    "    x = ps.remove_rt(x)\n",
    "    x = ps.remove_accented_chars(x)\n",
    "    x = ps.remove_special_chars(x)\n",
    "    x = re.sub(\"(.)\\\\1{2,}\", \"\\\\1\", x)\n",
    "    return x"
   ]
  },
  {
   "cell_type": "code",
   "execution_count": 5,
   "id": "8c693c9f",
   "metadata": {},
   "outputs": [],
   "source": [
    "df['customer_reviews']=df['customer_reviews'].apply(lambda x: get_clean(x))"
   ]
  },
  {
   "cell_type": "code",
   "execution_count": 6,
   "id": "dae0b993",
   "metadata": {},
   "outputs": [
    {
     "data": {
      "text/html": [
       "<div>\n",
       "<style scoped>\n",
       "    .dataframe tbody tr th:only-of-type {\n",
       "        vertical-align: middle;\n",
       "    }\n",
       "\n",
       "    .dataframe tbody tr th {\n",
       "        vertical-align: top;\n",
       "    }\n",
       "\n",
       "    .dataframe thead th {\n",
       "        text-align: right;\n",
       "    }\n",
       "</style>\n",
       "<table border=\"1\" class=\"dataframe\">\n",
       "  <thead>\n",
       "    <tr style=\"text-align: right;\">\n",
       "      <th></th>\n",
       "      <th>customer_reviews</th>\n",
       "      <th>average_review_rating</th>\n",
       "    </tr>\n",
       "  </thead>\n",
       "  <tbody>\n",
       "    <tr>\n",
       "      <th>0</th>\n",
       "      <td>item was broken 30 2 april 2014 by susie q on ...</td>\n",
       "      <td>4.5</td>\n",
       "    </tr>\n",
       "    <tr>\n",
       "      <th>1</th>\n",
       "      <td>a wonderful collectors piece 50 31 aug 2013 by...</td>\n",
       "      <td>4.6</td>\n",
       "    </tr>\n",
       "    <tr>\n",
       "      <th>2</th>\n",
       "      <td>great sticker collection 50 19 jun 2011 by f s...</td>\n",
       "      <td>4.7</td>\n",
       "    </tr>\n",
       "    <tr>\n",
       "      <th>3</th>\n",
       "      <td>rock and roll cards 50 28 july 2013 by tricia ...</td>\n",
       "      <td>5.0</td>\n",
       "    </tr>\n",
       "    <tr>\n",
       "      <th>4</th>\n",
       "      <td>little fingers big imagination 50 4 mar 2014 b...</td>\n",
       "      <td>4.2</td>\n",
       "    </tr>\n",
       "  </tbody>\n",
       "</table>\n",
       "</div>"
      ],
      "text/plain": [
       "                                    customer_reviews  average_review_rating\n",
       "0  item was broken 30 2 april 2014 by susie q on ...                    4.5\n",
       "1  a wonderful collectors piece 50 31 aug 2013 by...                    4.6\n",
       "2  great sticker collection 50 19 jun 2011 by f s...                    4.7\n",
       "3  rock and roll cards 50 28 july 2013 by tricia ...                    5.0\n",
       "4  little fingers big imagination 50 4 mar 2014 b...                    4.2"
      ]
     },
     "execution_count": 6,
     "metadata": {},
     "output_type": "execute_result"
    }
   ],
   "source": [
    "df.head()"
   ]
  },
  {
   "cell_type": "code",
   "execution_count": 7,
   "id": "8e41d979",
   "metadata": {},
   "outputs": [],
   "source": [
    "tfidf = TfidfVectorizer(max_features=20000, ngram_range=(1,3), analyzer='char')"
   ]
  },
  {
   "cell_type": "code",
   "execution_count": 8,
   "id": "0b4d71af",
   "metadata": {},
   "outputs": [],
   "source": [
    "x = tfidf.fit_transform(df['customer_reviews'])\n",
    "y = df['average_review_rating']"
   ]
  },
  {
   "cell_type": "code",
   "execution_count": 9,
   "id": "b8a5a416",
   "metadata": {},
   "outputs": [
    {
     "data": {
      "text/plain": [
       "((7486, 15799), (7486,))"
      ]
     },
     "execution_count": 9,
     "metadata": {},
     "output_type": "execute_result"
    }
   ],
   "source": [
    "x.shape, y.shape"
   ]
  },
  {
   "cell_type": "code",
   "execution_count": 10,
   "id": "b10bcf69",
   "metadata": {},
   "outputs": [],
   "source": [
    "xtrain, xtest, ytrain, ytest = train_test_split(x,y,test_size=0.2, random_state=42)"
   ]
  },
  {
   "cell_type": "code",
   "execution_count": 11,
   "id": "bb5e5d40",
   "metadata": {},
   "outputs": [
    {
     "data": {
      "text/plain": [
       "(5988, 15799)"
      ]
     },
     "execution_count": 11,
     "metadata": {},
     "output_type": "execute_result"
    }
   ],
   "source": [
    "xtrain.shape"
   ]
  },
  {
   "cell_type": "code",
   "execution_count": 12,
   "id": "e981a518",
   "metadata": {},
   "outputs": [
    {
     "data": {
      "text/plain": [
       "SVR()"
      ]
     },
     "execution_count": 12,
     "metadata": {},
     "output_type": "execute_result"
    }
   ],
   "source": [
    "reg = SVR()\n",
    "reg.fit(xtrain,ytrain)"
   ]
  },
  {
   "cell_type": "code",
   "execution_count": 13,
   "id": "f7b68fdd",
   "metadata": {},
   "outputs": [],
   "source": [
    "y_pred = reg.predict(xtest)\n",
    "test_rmse_score = mean_squared_error(ytest, y_pred, squared=False)\n",
    "train_pred=reg.predict(xtrain)\n",
    "train_rmse_score = mean_squared_error(ytrain, train_pred, squared=False)"
   ]
  },
  {
   "cell_type": "code",
   "execution_count": 14,
   "id": "ef674249",
   "metadata": {},
   "outputs": [
    {
     "name": "stdout",
     "output_type": "stream",
     "text": [
      "The RMSE SCORE for training data is 0.14235342799721412 and for test is 0.20209676526518117\n"
     ]
    }
   ],
   "source": [
    "print(f'The RMSE SCORE for training data is {train_rmse_score} and for test is {test_rmse_score}')"
   ]
  },
  {
   "cell_type": "code",
   "execution_count": 15,
   "id": "796de660",
   "metadata": {},
   "outputs": [],
   "source": [
    "resultscsv = pd.DataFrame(y_pred)"
   ]
  },
  {
   "cell_type": "code",
   "execution_count": 16,
   "id": "5a9052f9",
   "metadata": {},
   "outputs": [],
   "source": [
    "resultscsv.to_csv('Submission.csv')"
   ]
  }
 ],
 "metadata": {
  "kernelspec": {
   "display_name": "Python 3",
   "language": "python",
   "name": "python3"
  },
  "language_info": {
   "codemirror_mode": {
    "name": "ipython",
    "version": 3
   },
   "file_extension": ".py",
   "mimetype": "text/x-python",
   "name": "python",
   "nbconvert_exporter": "python",
   "pygments_lexer": "ipython3",
   "version": "3.8.10"
  }
 },
 "nbformat": 4,
 "nbformat_minor": 5
}
