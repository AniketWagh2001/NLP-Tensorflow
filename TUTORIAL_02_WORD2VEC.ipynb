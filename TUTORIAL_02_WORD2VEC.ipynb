{
 "cells": [
  {
   "cell_type": "code",
   "execution_count": 1,
   "id": "9684b9b7",
   "metadata": {},
   "outputs": [],
   "source": [
    "import io \n",
    "import re \n",
    "import string \n",
    "import tensorflow as tf\n",
    "import tqdm\n",
    "\n",
    "from tensorflow.keras import Model \n",
    "from tensorflow.keras.layers import Dot, Embedding, Flatten\n",
    "from tensorflow.keras.layers.experimental.preprocessing import TextVectorization"
   ]
  },
  {
   "cell_type": "code",
   "execution_count": 2,
   "id": "e5faf88c",
   "metadata": {},
   "outputs": [],
   "source": [
    "%load_ext tensorboard"
   ]
  },
  {
   "cell_type": "code",
   "execution_count": 3,
   "id": "33209593",
   "metadata": {},
   "outputs": [],
   "source": [
    "SEED = 42\n",
    "AUTOTUNE = tf.data.AUTOTUNE"
   ]
  },
  {
   "cell_type": "code",
   "execution_count": 4,
   "id": "76d0f865",
   "metadata": {},
   "outputs": [
    {
     "name": "stdout",
     "output_type": "stream",
     "text": [
      "8\n"
     ]
    }
   ],
   "source": [
    "sentence = \"The wide road shimmered in the hot sun\"\n",
    "tokens = list(sentence.lower().split())\n",
    "print(len(tokens))"
   ]
  },
  {
   "cell_type": "markdown",
   "id": "da28fc91",
   "metadata": {},
   "source": [
    "<h1>POSITIVE SAMPLING <h2> skip-gram"
   ]
  },
  {
   "cell_type": "code",
   "execution_count": 5,
   "id": "f87eb4fe",
   "metadata": {},
   "outputs": [
    {
     "name": "stdout",
     "output_type": "stream",
     "text": [
      "{'<pad>': 0, 'the': 5, 'wide': 1, 'road': 2, 'shimmered': 3, 'in': 4, 'hot': 6, 'sun': 7}\n"
     ]
    }
   ],
   "source": [
    "vocab, index = {}, 0\n",
    "vocab['<pad>'] = 0\n",
    "for token in tokens:\n",
    "    vocab[token] = index\n",
    "    index +=1\n",
    "vocab_size = len(vocab)\n",
    "print(vocab)"
   ]
  },
  {
   "cell_type": "code",
   "execution_count": 6,
   "id": "f5bb844b",
   "metadata": {},
   "outputs": [
    {
     "name": "stdout",
     "output_type": "stream",
     "text": [
      "{0: '<pad>', 5: 'the', 1: 'wide', 2: 'road', 3: 'shimmered', 4: 'in', 6: 'hot', 7: 'sun'}\n"
     ]
    }
   ],
   "source": [
    "inverse_vocab = {index: token for token, index in vocab.items()}\n",
    "print(inverse_vocab)"
   ]
  },
  {
   "cell_type": "code",
   "execution_count": 7,
   "id": "a62ba4ec",
   "metadata": {},
   "outputs": [
    {
     "name": "stdout",
     "output_type": "stream",
     "text": [
      "[5, 1, 2, 3, 4, 5, 6, 7]\n"
     ]
    }
   ],
   "source": [
    "example_sequence = [vocab[word] for word in tokens]\n",
    "print(example_sequence)"
   ]
  },
  {
   "cell_type": "code",
   "execution_count": 8,
   "id": "dd705946",
   "metadata": {},
   "outputs": [
    {
     "name": "stdout",
     "output_type": "stream",
     "text": [
      "26\n"
     ]
    }
   ],
   "source": [
    "window_size = 2\n",
    "positive_skip_gram, _=tf.keras.preprocessing.sequence.skipgrams(\n",
    "    example_sequence,\n",
    "    vocabulary_size = vocab_size,\n",
    "    window_size=window_size,\n",
    "    negative_samples=0\n",
    ")\n",
    "print(len(positive_skip_gram))"
   ]
  },
  {
   "cell_type": "code",
   "execution_count": 9,
   "id": "e45d07a6",
   "metadata": {},
   "outputs": [
    {
     "name": "stdout",
     "output_type": "stream",
     "text": [
      "(2, 1): (road, wide)\n",
      "(3, 1): (shimmered, wide)\n",
      "(1, 2): (wide, road)\n",
      "(5, 2): (the, road)\n",
      "(4, 2): (in, road)\n"
     ]
    }
   ],
   "source": [
    "for target, context in positive_skip_gram[:5]:\n",
    "    print(f\"({target}, {context}): ({inverse_vocab[target]}, {inverse_vocab[context]})\")"
   ]
  },
  {
   "cell_type": "markdown",
   "id": "5b6770d8",
   "metadata": {},
   "source": [
    "<h1> NEGATIVE SAMPLING <h2> skip-gram"
   ]
  },
  {
   "cell_type": "code",
   "execution_count": 10,
   "id": "945a7340",
   "metadata": {},
   "outputs": [
    {
     "name": "stdout",
     "output_type": "stream",
     "text": [
      "tf.Tensor([2 1 4 3], shape=(4,), dtype=int64)\n",
      "['road', 'wide', 'in', 'shimmered']\n"
     ]
    }
   ],
   "source": [
    "target_word, context_word = positive_skip_gram[0]\n",
    "\n",
    "num_ns = 4\n",
    "\n",
    "context_class = tf.reshape(tf.constant(context_word,dtype=\"int64\"), (1,1))\n",
    "negative_smapling_candidates, _, _ = tf.random.log_uniform_candidate_sampler(\n",
    "    true_classes = context_class,\n",
    "    num_true=1,\n",
    "    num_sampled=num_ns,\n",
    "    unique=True,\n",
    "    range_max=vocab_size,\n",
    "    seed=SEED,\n",
    "    name=\"negative_sampling\"\n",
    ")\n",
    "print(negative_smapling_candidates)\n",
    "print([inverse_vocab[index.numpy()] for index in negative_smapling_candidates])"
   ]
  },
  {
   "cell_type": "code",
   "execution_count": 11,
   "id": "390eca6f",
   "metadata": {},
   "outputs": [],
   "source": [
    "#Construct one training example\n"
   ]
  }
 ],
 "metadata": {
  "kernelspec": {
   "display_name": "pt-venv",
   "language": "python",
   "name": "pt-venv"
  },
  "language_info": {
   "codemirror_mode": {
    "name": "ipython",
    "version": 3
   },
   "file_extension": ".py",
   "mimetype": "text/x-python",
   "name": "python",
   "nbconvert_exporter": "python",
   "pygments_lexer": "ipython3",
   "version": "3.8.10"
  }
 },
 "nbformat": 4,
 "nbformat_minor": 5
}
