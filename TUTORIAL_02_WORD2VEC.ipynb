{
 "cells": [
  {
   "cell_type": "code",
   "execution_count": 1,
   "id": "9684b9b7",
   "metadata": {},
   "outputs": [],
   "source": [
    "import io \n",
    "import re \n",
    "import string \n",
    "import tensorflow as tf\n",
    "import tqdm\n",
    "\n",
    "from tensorflow.keras import Model \n",
    "from tensorflow.keras.layers import Dot, Embedding, Flatten\n",
    "from tensorflow.keras.layers.experimental.preprocessing import TextVectorization"
   ]
  },
  {
   "cell_type": "code",
   "execution_count": 2,
   "id": "e5faf88c",
   "metadata": {},
   "outputs": [],
   "source": [
    "%load_ext tensorboard"
   ]
  },
  {
   "cell_type": "code",
   "execution_count": 3,
   "id": "33209593",
   "metadata": {},
   "outputs": [],
   "source": [
    "SEED = 42\n",
    "AUTOTUNE = tf.data.AUTOTUNE"
   ]
  },
  {
   "cell_type": "code",
   "execution_count": 4,
   "id": "76d0f865",
   "metadata": {},
   "outputs": [],
   "source": [
    "# sentence = \"The wide road shimmered in the hot sun\"\n",
    "# tokens = list(sentence.lower().split())\n",
    "# print(len(tokens))"
   ]
  },
  {
   "cell_type": "markdown",
   "id": "da28fc91",
   "metadata": {},
   "source": [
    "<h1>POSITIVE SAMPLING <h2> skip-gram"
   ]
  },
  {
   "cell_type": "code",
   "execution_count": 5,
   "id": "f87eb4fe",
   "metadata": {},
   "outputs": [],
   "source": [
    "# vocab, index = {}, 0\n",
    "# vocab['<pad>'] = 0\n",
    "# for token in tokens:\n",
    "#     vocab[token] = index\n",
    "#     index +=1\n",
    "# vocab_size = len(vocab)\n",
    "# print(vocab)"
   ]
  },
  {
   "cell_type": "code",
   "execution_count": 6,
   "id": "f5bb844b",
   "metadata": {},
   "outputs": [],
   "source": [
    "# inverse_vocab = {index: token for token, index in vocab.items()}\n",
    "# print(inverse_vocab)"
   ]
  },
  {
   "cell_type": "code",
   "execution_count": 7,
   "id": "a62ba4ec",
   "metadata": {},
   "outputs": [],
   "source": [
    "# example_sequence = [vocab[word] for word in tokens]\n",
    "# print(example_sequence)"
   ]
  },
  {
   "cell_type": "code",
   "execution_count": 8,
   "id": "dd705946",
   "metadata": {},
   "outputs": [],
   "source": [
    "# window_size = 2\n",
    "# positive_skip_gram, _=tf.keras.preprocessing.sequence.skipgrams(\n",
    "#     example_sequence,\n",
    "#     vocabulary_size = vocab_size,\n",
    "#     window_size=window_size,\n",
    "#     negative_samples=0\n",
    "# )\n",
    "# print(len(positive_skip_gram))"
   ]
  },
  {
   "cell_type": "code",
   "execution_count": 9,
   "id": "e45d07a6",
   "metadata": {},
   "outputs": [],
   "source": [
    "# for target, context in positive_skip_gram[:5]:\n",
    "#     print(f\"({target}, {context}): ({inverse_vocab[target]}, {inverse_vocab[context]})\")"
   ]
  },
  {
   "cell_type": "markdown",
   "id": "5b6770d8",
   "metadata": {},
   "source": [
    "<h1> NEGATIVE SAMPLING <h2> skip-gram"
   ]
  },
  {
   "cell_type": "code",
   "execution_count": 10,
   "id": "945a7340",
   "metadata": {},
   "outputs": [],
   "source": [
    "# target_word, context_word = positive_skip_gram[0]\n",
    "\n",
    "# num_ns = 4\n",
    "\n",
    "# context_class = tf.reshape(tf.constant(context_word,dtype=\"int64\"), (1,1))\n",
    "# negative_smapling_candidates, _, _ = tf.random.log_uniform_candidate_sampler(\n",
    "#     true_classes = context_class,\n",
    "#     num_true=1,\n",
    "#     num_sampled=num_ns,\n",
    "#     unique=True,\n",
    "#     range_max=vocab_size,\n",
    "#     seed=SEED,\n",
    "#     name=\"negative_sampling\"\n",
    "# )\n",
    "# print(negative_smapling_candidates)\n",
    "# print([inverse_vocab[index.numpy()] for index in negative_smapling_candidates])"
   ]
  },
  {
   "cell_type": "code",
   "execution_count": 11,
   "id": "390eca6f",
   "metadata": {},
   "outputs": [],
   "source": [
    "# #Construct one training example\n",
    "\n",
    "# negative_smapling_candidates = tf.expand_dims(negative_smapling_candidates, 1)\n",
    "\n",
    "# context = tf.concat([context_class, negative_smapling_candidates], 0)\n",
    "\n",
    "# label = tf.constant([1]+[0]*num_ns, dtype=\"int64\")\n",
    "\n",
    "# target = tf.squeeze(target_word)\n",
    "# context = tf.squeeze(context)\n",
    "# label = tf.squeeze(label)"
   ]
  },
  {
   "cell_type": "code",
   "execution_count": 12,
   "id": "99489921",
   "metadata": {},
   "outputs": [],
   "source": [
    "# print(f\"target_index    : {target}\")\n",
    "# print(f\"target_word     : {inverse_vocab[target_word]}\")\n",
    "# print(f\"context_indices : {context}\")\n",
    "# print(f\"context_words   : {[inverse_vocab[c.numpy()] for c in context]}\")\n",
    "# print(f\"label           : {label}\")"
   ]
  },
  {
   "cell_type": "code",
   "execution_count": 13,
   "id": "4b4b468c",
   "metadata": {},
   "outputs": [],
   "source": [
    "# print(\"target  :\", target)\n",
    "# print(\"context :\", context)\n",
    "# print(\"label   :\", label)"
   ]
  },
  {
   "cell_type": "markdown",
   "id": "cdf76fcd",
   "metadata": {},
   "source": [
    "<h1> COMPILING EVERYTHING INTO ONE FUNCTION"
   ]
  },
  {
   "cell_type": "code",
   "execution_count": 14,
   "id": "aacf5b94",
   "metadata": {},
   "outputs": [],
   "source": [
    "# sampling_table = tf.keras.preprocessing.sequence.make_sampling_table(size=10)\n",
    "# print(sampling_table)"
   ]
  },
  {
   "cell_type": "markdown",
   "id": "8965b1b2",
   "metadata": {},
   "source": [
    "<h2>GENERATING TRAINING DATA"
   ]
  },
  {
   "cell_type": "code",
   "execution_count": 37,
   "id": "7687accd",
   "metadata": {},
   "outputs": [],
   "source": [
    "def generate_training_data(sequences, window_size, num_ns, vocab_size, seed):\n",
    "    targets, contexts, labels = [], [], []\n",
    "    \n",
    "    sampling_table = tf.keras.preprocessing.sequence.make_sampling_table(vocab_size)\n",
    "    \n",
    "    for sequence in tqdm.tqdm(sequences):\n",
    "#         \n",
    "        positive_skip_grams, _ = tf.keras.preprocessing.sequence.skipgrams(\n",
    "            sequence,\n",
    "            vocabulary_size=vocab_size,\n",
    "            sampling_table=sampling_table,\n",
    "            window_size=window_size,\n",
    "            negative_samples=0)\n",
    "        \n",
    "        for target_word, context_word in positive_skip_grams:\n",
    "            context_class = tf.expand_dims(\n",
    "                tf.constant([context_word],dtype=\"int64\"),1)\n",
    "            negative_sampling_candidates, _, _ = tf.random.log_uniform_candidate_sampler(\n",
    "                true_classes= context_class,\n",
    "                num_true=1,\n",
    "                num_sampled=num_ns,\n",
    "                unique=True,\n",
    "                range_max=vocab_size,\n",
    "                seed=SEED,\n",
    "                name=\"negative_sampling\")\n",
    "\n",
    "\n",
    "            negative_sampling_candidates = tf.expand_dims(\n",
    "                negative_sampling_candidates, 1)\n",
    "\n",
    "            context = tf.concat([context_class, negative_sampling_candidates], 0)\n",
    "            label = tf.constant([1]+ [0]*num_ns, dtype=\"int64\")\n",
    "\n",
    "            targets.append(target_word)\n",
    "            contexts.append(context)\n",
    "            labels.append(label)\n",
    "        \n",
    "    return targets, contexts, labels"
   ]
  },
  {
   "cell_type": "code",
   "execution_count": 38,
   "id": "6b918f8a",
   "metadata": {},
   "outputs": [],
   "source": [
    "path_to_file = tf.keras.utils.get_file('shakespeare.txt', 'https://storage.googleapis.com/download.tensorflow.org/data/shakespeare.txt')\n"
   ]
  },
  {
   "cell_type": "code",
   "execution_count": 39,
   "id": "5f3cebea",
   "metadata": {},
   "outputs": [
    {
     "name": "stdout",
     "output_type": "stream",
     "text": [
      "First Citizen:\n",
      "Before we proceed any further, hear me speak.\n",
      "\n",
      "All:\n",
      "Speak, speak.\n",
      "\n",
      "First Citizen:\n",
      "You are all resolved rather to die than to famish?\n",
      "\n",
      "All:\n",
      "Resolved. resolved.\n",
      "\n",
      "First Citizen:\n",
      "First, you know Caius Marcius is chief enemy to the people.\n",
      "\n",
      "All:\n",
      "We know't, we know't.\n",
      "\n",
      "First Citizen:\n",
      "Let us kill him, and we'll have corn at our own price.\n"
     ]
    }
   ],
   "source": [
    "with open(path_to_file) as f: \n",
    "  lines = f.read().splitlines()\n",
    "for line in lines[:20]:\n",
    "  print(line)"
   ]
  },
  {
   "cell_type": "code",
   "execution_count": 40,
   "id": "d9e81eb4",
   "metadata": {},
   "outputs": [],
   "source": [
    "text_ds = tf.data.TextLineDataset(path_to_file).filter(lambda x: tf.cast(tf.strings.length(x), bool))"
   ]
  },
  {
   "cell_type": "code",
   "execution_count": 41,
   "id": "76898605",
   "metadata": {},
   "outputs": [],
   "source": [
    "def custom_standardization(input_data):\n",
    "    lowercase = tf.strings.lower(input_data)\n",
    "    return tf.strings.regex_replace(lowercase,'[%s]' % re.escape(string.punctuation), '')\n",
    "\n",
    "vocab_size = 4096\n",
    "sequence_length = 10\n",
    "\n",
    "vectorize_layer = TextVectorization(\n",
    "    standardize = custom_standardization,\n",
    "    max_tokens=vocab_size,\n",
    "    output_mode = 'int',\n",
    "    output_sequence_length = sequence_length\n",
    ")"
   ]
  },
  {
   "cell_type": "code",
   "execution_count": 42,
   "id": "db114e5f",
   "metadata": {},
   "outputs": [],
   "source": [
    "vectorize_layer.adapt(text_ds.batch(1024))"
   ]
  },
  {
   "cell_type": "code",
   "execution_count": 43,
   "id": "ebc6aa4b",
   "metadata": {},
   "outputs": [
    {
     "name": "stdout",
     "output_type": "stream",
     "text": [
      "['', '[UNK]', 'the', 'and', 'to', 'i', 'of', 'you', 'my', 'a', 'that', 'in', 'is', 'not', 'for', 'with', 'me', 'it', 'be', 'your']\n"
     ]
    }
   ],
   "source": [
    "# Save the created vocabulary for reference.\n",
    "inverse_vocab = vectorize_layer.get_vocabulary()\n",
    "print(inverse_vocab[:20])"
   ]
  },
  {
   "cell_type": "code",
   "execution_count": 44,
   "id": "bacb4f5b",
   "metadata": {},
   "outputs": [],
   "source": [
    "text_vector_ds = text_ds.batch(1024).prefetch(AUTOTUNE).map(vectorize_layer).unbatch()"
   ]
  },
  {
   "cell_type": "code",
   "execution_count": 45,
   "id": "8f2f2956",
   "metadata": {},
   "outputs": [
    {
     "name": "stdout",
     "output_type": "stream",
     "text": [
      "32777\n"
     ]
    }
   ],
   "source": [
    "sequences = list(text_vector_ds.as_numpy_iterator())\n",
    "print(len(sequences))"
   ]
  },
  {
   "cell_type": "code",
   "execution_count": 46,
   "id": "aa5f7e2c",
   "metadata": {},
   "outputs": [
    {
     "name": "stdout",
     "output_type": "stream",
     "text": [
      "[ 89 270   0   0   0   0   0   0   0   0] => ['first', 'citizen', '', '', '', '', '', '', '', '']\n",
      "[138  36 982 144 673 125  16 106   0   0] => ['before', 'we', 'proceed', 'any', 'further', 'hear', 'me', 'speak', '', '']\n",
      "[34  0  0  0  0  0  0  0  0  0] => ['all', '', '', '', '', '', '', '', '', '']\n",
      "[106 106   0   0   0   0   0   0   0   0] => ['speak', 'speak', '', '', '', '', '', '', '', '']\n",
      "[ 89 270   0   0   0   0   0   0   0   0] => ['first', 'citizen', '', '', '', '', '', '', '', '']\n"
     ]
    }
   ],
   "source": [
    "for seq in sequences[:5]:\n",
    "  print(f\"{seq} => {[inverse_vocab[i] for i in seq]}\")"
   ]
  },
  {
   "cell_type": "code",
   "execution_count": 47,
   "id": "9c4d510a",
   "metadata": {},
   "outputs": [
    {
     "name": "stderr",
     "output_type": "stream",
     "text": [
      "100%|██████████| 32777/32777 [00:17<00:00, 1837.29it/s]"
     ]
    },
    {
     "name": "stdout",
     "output_type": "stream",
     "text": [
      "65797 65797 65797\n"
     ]
    },
    {
     "name": "stderr",
     "output_type": "stream",
     "text": [
      "\n"
     ]
    }
   ],
   "source": [
    "targets, contexts, labels = generate_training_data(\n",
    "    sequences=sequences,\n",
    "    window_size =2,\n",
    "    num_ns=4,\n",
    "    vocab_size = vocab_size,\n",
    "    seed=SEED\n",
    ")\n",
    "\n",
    "print(len(targets), len(contexts), len(labels))"
   ]
  },
  {
   "cell_type": "code",
   "execution_count": null,
   "id": "8f1cbc07",
   "metadata": {},
   "outputs": [],
   "source": [
    "# Configure the dataset for performance"
   ]
  }
 ],
 "metadata": {
  "kernelspec": {
   "display_name": "pt-venv",
   "language": "python",
   "name": "pt-venv"
  },
  "language_info": {
   "codemirror_mode": {
    "name": "ipython",
    "version": 3
   },
   "file_extension": ".py",
   "mimetype": "text/x-python",
   "name": "python",
   "nbconvert_exporter": "python",
   "pygments_lexer": "ipython3",
   "version": "3.8.10"
  }
 },
 "nbformat": 4,
 "nbformat_minor": 5
}
